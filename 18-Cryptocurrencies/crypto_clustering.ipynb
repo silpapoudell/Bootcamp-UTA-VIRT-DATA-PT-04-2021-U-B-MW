
Clustering Crypto
In [1]:
# Initial imports
import pandas as pd
import hvplot.pandas
from path import Path
import plotly.express as px
from sklearn.preprocessing import StandardScaler, MinMaxScaler
from sklearn.decomposition import PCA
from sklearn.cluster import KMeans
Deliverable 1: Preprocessing the Data for PCA
In [2]:
# Load the crypto_data.csv dataset.
file_path="Resources/crypto_data.csv"
crypto_df=pd.read_csv(file_path, index_col=0)

crypto_df.head(10)
Out[2]:
CoinName	Algorithm	IsTrading	ProofType	TotalCoinsMined	TotalCoinSupply
42	42 Coin	Scrypt	True	PoW/PoS	4.199995e+01	42
365	365Coin	X11	True	PoW/PoS	NaN	2300000000
404	404Coin	Scrypt	True	PoW/PoS	1.055185e+09	532000000
611	SixEleven	SHA-256	True	PoW	NaN	611000
808	808	SHA-256	True	PoW/PoS	0.000000e+00	0
1337	EliteCoin	X13	True	PoW/PoS	2.927942e+10	314159265359
2015	2015 coin	X11	True	PoW/PoS	NaN	0
BTC	Bitcoin	SHA-256	True	PoW	1.792718e+07	21000000
ETH	Ethereum	Ethash	True	PoW	1.076842e+08	0
LTC	Litecoin	Scrypt	True	PoW	6.303924e+07	84000000
In [3]:
crypto_df.dtypes
Out[3]:
CoinName            object
Algorithm           object
IsTrading             bool
ProofType           object
TotalCoinsMined    float64
TotalCoinSupply     object
dtype: object
In [4]:
# Keep all the cryptocurrencies that are being traded.
crypto_df=crypto_df.loc[crypto_df["IsTrading"]==True]
crypto_df
Out[4]:
CoinName	Algorithm	IsTrading	ProofType	TotalCoinsMined	TotalCoinSupply
42	42 Coin	Scrypt	True	PoW/PoS	4.199995e+01	42
365	365Coin	X11	True	PoW/PoS	NaN	2300000000
404	404Coin	Scrypt	True	PoW/PoS	1.055185e+09	532000000
611	SixEleven	SHA-256	True	PoW	NaN	611000
808	808	SHA-256	True	PoW/PoS	0.000000e+00	0
...	...	...	...	...	...	...
SERO	Super Zero	Ethash	True	PoW	NaN	1000000000
UOS	UOS	SHA-256	True	DPoI	NaN	1000000000
BDX	Beldex	CryptoNight	True	PoW	9.802226e+08	1400222610
ZEN	Horizen	Equihash	True	PoW	7.296538e+06	21000000
XBC	BitcoinPlus	Scrypt	True	PoS	1.283270e+05	1000000
1144 rows × 6 columns

In [5]:
crypto_df["Algorithm"].value_counts()
Out[5]:
Scrypt                 394
X11                    182
SHA-256                121
X13                     54
PoS                     42
                      ... 
Equihash+Scrypt          1
X14                      1
Cryptonight-GPU          1
HybridScryptHash256      1
Momentum                 1
Name: Algorithm, Length: 89, dtype: int64
In [6]:
# Keep all the cryptocurrencies that have a working algorithm.
crypto_df= crypto_df.dropna(subset=["Algorithm"])
crypto_df
Out[6]:
CoinName	Algorithm	IsTrading	ProofType	TotalCoinsMined	TotalCoinSupply
42	42 Coin	Scrypt	True	PoW/PoS	4.199995e+01	42
365	365Coin	X11	True	PoW/PoS	NaN	2300000000
404	404Coin	Scrypt	True	PoW/PoS	1.055185e+09	532000000
611	SixEleven	SHA-256	True	PoW	NaN	611000
808	808	SHA-256	True	PoW/PoS	0.000000e+00	0
...	...	...	...	...	...	...
SERO	Super Zero	Ethash	True	PoW	NaN	1000000000
UOS	UOS	SHA-256	True	DPoI	NaN	1000000000
BDX	Beldex	CryptoNight	True	PoW	9.802226e+08	1400222610
ZEN	Horizen	Equihash	True	PoW	7.296538e+06	21000000
XBC	BitcoinPlus	Scrypt	True	PoS	1.283270e+05	1000000
1144 rows × 6 columns

In [7]:
# Remove the "IsTrading" column. 
crypto_df=crypto_df.drop(columns=["IsTrading"])
crypto_df
Out[7]:
CoinName	Algorithm	ProofType	TotalCoinsMined	TotalCoinSupply
42	42 Coin	Scrypt	PoW/PoS	4.199995e+01	42
365	365Coin	X11	PoW/PoS	NaN	2300000000
404	404Coin	Scrypt	PoW/PoS	1.055185e+09	532000000
611	SixEleven	SHA-256	PoW	NaN	611000
808	808	SHA-256	PoW/PoS	0.000000e+00	0
...	...	...	...	...	...
SERO	Super Zero	Ethash	PoW	NaN	1000000000
UOS	UOS	SHA-256	DPoI	NaN	1000000000
BDX	Beldex	CryptoNight	PoW	9.802226e+08	1400222610
ZEN	Horizen	Equihash	PoW	7.296538e+06	21000000
XBC	BitcoinPlus	Scrypt	PoS	1.283270e+05	1000000
1144 rows × 5 columns

In [8]:
# Remove rows that have at least 1 null value.
crypto_df=crypto_df.dropna()
crypto_df
Out[8]:
CoinName	Algorithm	ProofType	TotalCoinsMined	TotalCoinSupply
42	42 Coin	Scrypt	PoW/PoS	4.199995e+01	42
404	404Coin	Scrypt	PoW/PoS	1.055185e+09	532000000
808	808	SHA-256	PoW/PoS	0.000000e+00	0
1337	EliteCoin	X13	PoW/PoS	2.927942e+10	314159265359
BTC	Bitcoin	SHA-256	PoW	1.792718e+07	21000000
...	...	...	...	...	...
ZEPH	ZEPHYR	SHA-256	DPoS	2.000000e+09	2000000000
GAP	Gapcoin	Scrypt	PoW/PoS	1.493105e+07	250000000
BDX	Beldex	CryptoNight	PoW	9.802226e+08	1400222610
ZEN	Horizen	Equihash	PoW	7.296538e+06	21000000
XBC	BitcoinPlus	Scrypt	PoS	1.283270e+05	1000000
685 rows × 5 columns

In [9]:
# Keep the rows where coins are mined.
crypto_df=crypto_df.loc[crypto_df["TotalCoinsMined"]> 0]
crypto_df
Out[9]:
CoinName	Algorithm	ProofType	TotalCoinsMined	TotalCoinSupply
42	42 Coin	Scrypt	PoW/PoS	4.199995e+01	42
404	404Coin	Scrypt	PoW/PoS	1.055185e+09	532000000
1337	EliteCoin	X13	PoW/PoS	2.927942e+10	314159265359
BTC	Bitcoin	SHA-256	PoW	1.792718e+07	21000000
ETH	Ethereum	Ethash	PoW	1.076842e+08	0
...	...	...	...	...	...
ZEPH	ZEPHYR	SHA-256	DPoS	2.000000e+09	2000000000
GAP	Gapcoin	Scrypt	PoW/PoS	1.493105e+07	250000000
BDX	Beldex	CryptoNight	PoW	9.802226e+08	1400222610
ZEN	Horizen	Equihash	PoW	7.296538e+06	21000000
XBC	BitcoinPlus	Scrypt	PoS	1.283270e+05	1000000
532 rows × 5 columns

In [10]:
# Create a new DataFrame that holds only the cryptocurrencies names.
crypto_names_df=pd.DataFrame(data=crypto_df, columns = ["CoinName"], index=crypto_df.index)
crypto_names_df
Out[10]:
CoinName
42	42 Coin
404	404Coin
1337	EliteCoin
BTC	Bitcoin
ETH	Ethereum
...	...
ZEPH	ZEPHYR
GAP	Gapcoin
BDX	Beldex
ZEN	Horizen
XBC	BitcoinPlus
532 rows × 1 columns

In [11]:
# Drop the 'CoinName' column since it's not going to be used on the clustering algorithm.
crypto_df=crypto_df.drop(columns="CoinName", axis=1)
print(crypto_df.shape)
crypto_df.head(10)
(532, 4)
Out[11]:
Algorithm	ProofType	TotalCoinsMined	TotalCoinSupply
42	Scrypt	PoW/PoS	4.199995e+01	42
404	Scrypt	PoW/PoS	1.055185e+09	532000000
1337	X13	PoW/PoS	2.927942e+10	314159265359
BTC	SHA-256	PoW	1.792718e+07	21000000
ETH	Ethash	PoW	1.076842e+08	0
LTC	Scrypt	PoW	6.303924e+07	84000000
DASH	X11	PoW/PoS	9.031294e+06	22000000
XMR	CryptoNight-V7	PoW	1.720114e+07	0
ETC	Ethash	PoW	1.133597e+08	210000000
ZEC	Equihash	PoW	7.383056e+06	21000000
In [12]:
crypto_df.dtypes
Out[12]:
Algorithm           object
ProofType           object
TotalCoinsMined    float64
TotalCoinSupply     object
dtype: object
In [13]:
crypto_df["TotalCoinSupply"].astype("float")
Out[13]:
42      4.200000e+01
404     5.320000e+08
1337    3.141593e+11
BTC     2.100000e+07
ETH     0.000000e+00
            ...     
ZEPH    2.000000e+09
GAP     2.500000e+08
BDX     1.400223e+09
ZEN     2.100000e+07
XBC     1.000000e+06
Name: TotalCoinSupply, Length: 532, dtype: float64
In [14]:
# Use get_dummies() to create variables for text features.
X =pd.get_dummies(crypto_df, columns=["Algorithm", "ProofType"])
print(X.shape)
X
(532, 98)
Out[14]:
TotalCoinsMined	TotalCoinSupply	Algorithm_1GB AES Pattern Search	Algorithm_536	Algorithm_Argon2d	Algorithm_BLAKE256	Algorithm_Blake	Algorithm_Blake2S	Algorithm_Blake2b	Algorithm_C11	...	ProofType_PoW/PoS	ProofType_PoW/PoS	ProofType_PoW/PoW	ProofType_PoW/nPoS	ProofType_Pos	ProofType_Proof of Authority	ProofType_Proof of Trust	ProofType_TPoS	ProofType_Zero-Knowledge Proof	ProofType_dPoW/PoW
42	4.199995e+01	42	0	0	0	0	0	0	0	0	...	1	0	0	0	0	0	0	0	0	0
404	1.055185e+09	532000000	0	0	0	0	0	0	0	0	...	1	0	0	0	0	0	0	0	0	0
1337	2.927942e+10	314159265359	0	0	0	0	0	0	0	0	...	1	0	0	0	0	0	0	0	0	0
BTC	1.792718e+07	21000000	0	0	0	0	0	0	0	0	...	0	0	0	0	0	0	0	0	0	0
ETH	1.076842e+08	0	0	0	0	0	0	0	0	0	...	0	0	0	0	0	0	0	0	0	0
...	...	...	...	...	...	...	...	...	...	...	...	...	...	...	...	...	...	...	...	...	...
ZEPH	2.000000e+09	2000000000	0	0	0	0	0	0	0	0	...	0	0	0	0	0	0	0	0	0	0
GAP	1.493105e+07	250000000	0	0	0	0	0	0	0	0	...	1	0	0	0	0	0	0	0	0	0
BDX	9.802226e+08	1400222610	0	0	0	0	0	0	0	0	...	0	0	0	0	0	0	0	0	0	0
ZEN	7.296538e+06	21000000	0	0	0	0	0	0	0	0	...	0	0	0	0	0	0	0	0	0	0
XBC	1.283270e+05	1000000	0	0	0	0	0	0	0	0	...	0	0	0	0	0	0	0	0	0	0
532 rows × 98 columns

In [15]:
# Standardize the data with StandardScaler().
X_scaled=StandardScaler().fit_transform(X)
X_scaled
Out[15]:
array([[-0.11710817, -0.1528703 , -0.0433963 , ..., -0.0433963 ,
        -0.0433963 , -0.0433963 ],
       [-0.09396955, -0.145009  , -0.0433963 , ..., -0.0433963 ,
        -0.0433963 , -0.0433963 ],
       [ 0.52494561,  4.48942416, -0.0433963 , ..., -0.0433963 ,
        -0.0433963 , -0.0433963 ],
       ...,
       [-0.09561336, -0.13217937, -0.0433963 , ..., -0.0433963 ,
        -0.0433963 , -0.0433963 ],
       [-0.11694817, -0.15255998, -0.0433963 , ..., -0.0433963 ,
        -0.0433963 , -0.0433963 ],
       [-0.11710536, -0.15285552, -0.0433963 , ..., -0.0433963 ,
        -0.0433963 , -0.0433963 ]])
Deliverable 2: Reducing Data Dimensions Using PCA
In [16]:
# Using PCA to reduce dimension to three principal components.
#Initialize PCA Model
pca=PCA(n_components=3)

# Get two principal components for the iris data.
crypto_pca = pca.fit_transform(X_scaled)
crypto_pca
Out[16]:
array([[-0.32575767,  0.9849939 , -0.31688256],
       [-0.30908558,  0.98511028, -0.31683096],
       [ 2.31584836,  1.55518977, -0.34960694],
       ...,
       [ 0.32333141, -2.28353408,  0.26614879],
       [-0.17908836, -2.08451412,  0.24759498],
       [-0.28959037,  0.85479807, -0.15759218]])
In [17]:
# Create a DataFrame with the three principal components.
pcs_df=pd.DataFrame(
    data=crypto_pca, index=X.index, columns=["PC1", "PC2", "PC3"])
pcs_df
Out[17]:
PC1	PC2	PC3
42	-0.325758	0.984994	-0.316883
404	-0.309086	0.985110	-0.316831
1337	2.315848	1.555190	-0.349607
BTC	-0.144483	-1.345679	0.114578
ETH	-0.155086	-1.968293	0.235682
...	...	...	...
ZEPH	2.473233	0.723717	0.340934
GAP	-0.323803	0.984880	-0.316883
BDX	0.323331	-2.283534	0.266149
ZEN	-0.179088	-2.084514	0.247595
XBC	-0.289590	0.854798	-0.157592
532 rows × 3 columns

Deliverable 3: Clustering Crytocurrencies Using K-Means
Finding the Best Value for k Using the Elbow Curve
In [18]:
# Create an elbow curve to find the best value for K.
inertia = []
k = list(range(1, 11))
# Calculate the inertia for the range of K values
for i in k:
   km = KMeans(n_clusters=i, random_state=0)
   km.fit(pcs_df)
   inertia.append(km.inertia_)
In [19]:
#create the elbow curve using hvPlot
elbow_data={"k": k, "inertia": inertia}
df_elbow=pd.DataFrame(elbow_data)
df_elbow.hvplot.line(x="k", y="inertia", xticks="k", title="Elbow Curve")
Out[19]:
Running K-Means with k=4

In [20]:
# Initialize the K-Means model.
model = KMeans(n_clusters=4, random_state=0)

# Fit the model
model.fit(pcs_df)

# Predict clusters
predictions = model.predict(pcs_df)

predictions
Out[20]:
array([0, 0, 0, 1, 1, 1, 0, 1, 1, 1, 0, 1, 0, 0, 1, 0, 1, 1, 0, 0, 1, 1,
       1, 1, 1, 0, 1, 1, 1, 0, 1, 0, 1, 1, 0, 0, 1, 1, 1, 1, 1, 1, 0, 0,
       1, 1, 1, 1, 1, 0, 0, 1, 0, 1, 1, 1, 1, 0, 1, 1, 0, 1, 0, 0, 0, 1,
       1, 1, 0, 0, 0, 0, 0, 1, 1, 1, 0, 0, 1, 0, 1, 0, 0, 1, 1, 1, 1, 0,
       0, 1, 0, 1, 1, 0, 0, 1, 0, 0, 1, 1, 0, 0, 1, 0, 0, 1, 0, 1, 0, 1,
       0, 1, 0, 0, 1, 1, 0, 1, 1, 1, 0, 1, 1, 1, 1, 1, 0, 0, 1, 1, 1, 0,
       1, 0, 1, 1, 0, 1, 0, 1, 0, 0, 1, 1, 0, 1, 1, 0, 0, 1, 0, 1, 0, 0,
       0, 1, 1, 1, 1, 0, 0, 0, 0, 0, 1, 1, 0, 0, 0, 0, 0, 1, 0, 0, 0, 0,
       0, 1, 0, 1, 0, 0, 1, 0, 1, 0, 0, 1, 0, 1, 0, 1, 0, 1, 0, 0, 0, 0,
       1, 0, 0, 0, 0, 0, 1, 1, 0, 0, 1, 1, 0, 0, 0, 0, 0, 1, 0, 0, 0, 0,
       0, 0, 0, 0, 1, 0, 0, 0, 0, 0, 0, 1, 1, 1, 0, 0, 0, 0, 1, 0, 1, 0,
       0, 1, 0, 1, 1, 0, 1, 1, 0, 1, 0, 0, 0, 1, 0, 0, 1, 0, 0, 0, 0, 0,
       0, 0, 1, 0, 1, 0, 0, 0, 0, 1, 0, 1, 0, 1, 1, 1, 1, 0, 1, 0, 0, 1,
       0, 1, 1, 1, 0, 1, 0, 1, 1, 1, 0, 1, 0, 1, 0, 0, 0, 1, 0, 1, 1, 1,
       1, 1, 0, 0, 1, 0, 0, 0, 1, 0, 1, 0, 1, 0, 1, 0, 0, 0, 0, 1, 0, 0,
       1, 0, 0, 0, 1, 1, 1, 1, 0, 0, 0, 0, 1, 0, 1, 1, 1, 0, 0, 1, 1, 0,
       0, 1, 0, 1, 1, 1, 0, 1, 1, 0, 0, 0, 1, 1, 1, 0, 0, 0, 1, 1, 0, 1,
       1, 1, 1, 0, 0, 0, 1, 1, 1, 0, 0, 0, 0, 0, 0, 1, 1, 1, 1, 0, 0, 0,
       1, 0, 1, 0, 0, 0, 0, 1, 0, 0, 1, 0, 0, 1, 1, 0, 1, 0, 1, 1, 1, 1,
       0, 0, 1, 0, 1, 0, 0, 0, 0, 0, 0, 1, 1, 1, 0, 0, 0, 0, 0, 0, 1, 0,
       1, 1, 1, 1, 0, 0, 0, 0, 1, 0, 0, 1, 0, 0, 1, 3, 1, 0, 1, 1, 0, 0,
       1, 0, 1, 1, 0, 1, 1, 0, 1, 0, 1, 0, 0, 1, 0, 0, 0, 0, 0, 1, 1, 1,
       0, 0, 0, 1, 0, 1, 0, 1, 0, 0, 0, 0, 1, 0, 0, 0, 1, 0, 1, 0, 1, 0,
       0, 0, 1, 1, 0, 0, 0, 0, 0, 0, 1, 0, 1, 0, 1, 0, 0, 3, 0, 2, 0, 0,
       0, 1, 1, 0], dtype=int32)
In [21]:
# Create a new DataFrame including predicted clusters and cryptocurrencies features.
# Concatentate the crypto_df and pcs_df DataFrames on the same columns.
clustered_df=crypto_df.join(pcs_df, how="outer")

#  Add a new column, "CoinName" to the clustered_df DataFrame that holds the names of the cryptocurrencies. 
clustered_df=clustered_df.merge(right=crypto_names_df, right_index=True, left_index=True)

#  Add a new column, "Class" to the clustered_df DataFrame that holds the predictions.
clustered_df["Class"] = model.labels_

# Print the shape of the clustered_df
print(clustered_df.shape)
clustered_df.head(10)
(532, 9)
Out[21]:
Algorithm	ProofType	TotalCoinsMined	TotalCoinSupply	PC1	PC2	PC3	CoinName	Class
42	Scrypt	PoW/PoS	4.199995e+01	42	-0.325758	0.984994	-0.316883	42 Coin	0
404	Scrypt	PoW/PoS	1.055185e+09	532000000	-0.309086	0.985110	-0.316831	404Coin	0
1337	X13	PoW/PoS	2.927942e+10	314159265359	2.315848	1.555190	-0.349607	EliteCoin	0
BTC	SHA-256	PoW	1.792718e+07	21000000	-0.144483	-1.345679	0.114578	Bitcoin	1
ETH	Ethash	PoW	1.076842e+08	0	-0.155086	-1.968293	0.235682	Ethereum	1
LTC	Scrypt	PoW	6.303924e+07	84000000	-0.162086	-1.096553	0.006415	Litecoin	1
DASH	X11	PoW/PoS	9.031294e+06	22000000	-0.394151	1.159469	-0.290504	Dash	0
XMR	CryptoNight-V7	PoW	1.720114e+07	0	-0.155206	-2.186248	0.264635	Monero	1
ETC	Ethash	PoW	1.133597e+08	210000000	-0.153528	-1.968391	0.235681	Ethereum Classic	1
ZEC	Equihash	PoW	7.383056e+06	21000000	-0.179087	-2.084514	0.247595	ZCash	1
Deliverable 4: Visualizing Cryptocurrencies Results
3D-Scatter with Clusters
In [22]:
# Creating a 3D-Scatter with the PCA data and the clusters
fig = px.scatter_3d(
    clustered_df,
    x="PC1",
    y="PC2",
    z="PC3",
    color="Class",
    symbol="Class",
    width=800,
    hover_name=clustered_df["CoinName"],
    hover_data=["Algorithm"],
)
fig.update_layout(legend=dict(x=0, y=1))
fig.show()
In [23]:
# Create a table with tradable cryptocurrencies.
clustered_df.hvplot.table(columns=["CoinName", "Algorithm", "ProofType", "TotalCoinSupply", "TotalCoinsMined", "Class"], sortable=True, selectable=True)
Out[23]:
In [24]:
# Print the total number of tradable cryptocurrencies.
total = clustered_df["CoinName"].count()
print(f"The total number of tradable Cryptocurrencies is {total}.")
The total number of tradable Cryptocurrencies is 532.
In [25]:
scaled_coins_df=pd.DataFrame(
    data = crypto_df,  columns=["TotalCoinSupply", "TotalCoinsMined"], index=crypto_df.index)
scaled_coins_df
Out[25]:
TotalCoinSupply	TotalCoinsMined
42	42	4.199995e+01
404	532000000	1.055185e+09
1337	314159265359	2.927942e+10
BTC	21000000	1.792718e+07
ETH	0	1.076842e+08
...	...	...
ZEPH	2000000000	2.000000e+09
GAP	250000000	1.493105e+07
BDX	1400222610	9.802226e+08
ZEN	21000000	7.296538e+06
XBC	1000000	1.283270e+05
532 rows × 2 columns

In [26]:
# Scaling data to create the scatter plot with tradable cryptocurrencies.
min_X_Scaled = MinMaxScaler().fit_transform(scaled_coins_df)
min_X_Scaled
Out[26]:
array([[4.20000000e-11, 0.00000000e+00],
       [5.32000000e-04, 1.06585544e-03],
       [3.14159265e-01, 2.95755135e-02],
       ...,
       [1.40022261e-03, 9.90135079e-04],
       [2.10000000e-05, 7.37028150e-06],
       [1.00000000e-06, 1.29582282e-07]])
In [27]:
# Create a new DataFrame that has the scaled data with the clustered_df DataFrame index.
plot_df=pd.DataFrame(
    data = min_X_Scaled,  columns=["TotalCoinSupply", "TotalCoinsMined"], index=clustered_df.index)


# Add the "CoinName" column from the clustered_df DataFrame to the new DataFrame.
plot_df["CoinName"]=clustered_df["CoinName"]

# Add the "Class" column from the clustered_df DataFrame to the new DataFrame. 
plot_df["Class"]=clustered_df["Class"]

plot_df.head(10)
Out[27]:
TotalCoinSupply	TotalCoinsMined	CoinName	Class
42	4.200000e-11	0.000000	42 Coin	0
404	5.320000e-04	0.001066	404Coin	0
1337	3.141593e-01	0.029576	EliteCoin	0
BTC	2.100000e-05	0.000018	Bitcoin	1
ETH	0.000000e+00	0.000109	Ethereum	1
LTC	8.400000e-05	0.000064	Litecoin	1
DASH	2.200000e-05	0.000009	Dash	0
XMR	0.000000e+00	0.000017	Monero	1
ETC	2.100000e-04	0.000115	Ethereum Classic	1
ZEC	2.100000e-05	0.000007	ZCash	1
In [28]:
# Create a hvplot.scatter plot using x="TotalCoinsMined" and y="TotalCoinSupply".
plot_df.hvplot.scatter(x="TotalCoinsMined", y="TotalCoinSupply", by="Class", hover_cols=["CoinName"])
Out[28]:
In [ ]:
