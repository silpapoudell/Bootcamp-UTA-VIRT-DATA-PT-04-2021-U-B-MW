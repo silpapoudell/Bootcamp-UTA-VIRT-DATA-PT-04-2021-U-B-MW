
Deliverable 1. Retrieve Weather Data.
Generate a new set of 2000 random latitudes and longitudes.
Get the nearest city.
Perform an API call with the OpenWeatherMap.
Retrieve the following information from the API call.
The latitude and longitude
The maximum temperature
The % humidity
The % cloudiness
The Wind speed
The Weather description, i.e., cloudy, fog, light rain, clear sky, etc.
Add the data to a new DataFrame.
Save the new DataFrame as a CSV file.
In [1]:
from citipy import citipy
import numpy as np
import pandas as pd
In [2]:
# Create a set of random latitude and longitude combinations.
lats = np.random.uniform(low=-90.000, high=90.000, size=2000)
lngs = np.random.uniform(low=-180.000, high=180.000, size=2000)
lat_lngs = zip(lats, lngs)
In [3]:
# Add the latitudes and longitudes to a list.
coordinates = list(lat_lngs)
In [4]:
# Create a list for holding the cities.
cities = []


# Identify nearest city for each latitude and longitude combination
for coordinate in coordinates:
    city = citipy.nearest_city(coordinate[0], coordinate[1]).city_name
    
    # If the city is unique, then add it to a our cities list
    if city not in cities:
        cities.append(city)

# Print the city count to confirm sufficient count
len(cities)
Out[4]:
759
In [5]:
# Import the requests library.
import requests

# Import the datetime module from the datetime library.
from datetime import datetime

# Import the API key.
from config import weather_api_key
In [6]:
# Starting URL for Weather Map API Call.
url = "http://api.openweathermap.org/data/2.5/weather?units=Imperial&APPID=" + weather_api_key
Retrieve the following information from the API call.
- The latitude and longitude
- The Max temperature
- The % humidity
- The % cloudiness
- The Wind speed
- The Weather description, i.e., cloudy, fog, light rain, clear sky, etc. 
In [7]:
# List of city data
city_data = []

# Print to logger
print("Beginning Data Retrieval     ")
print("-----------------------------")

# Create counters
record_count = 1
set_count = 1

# Loop through all the cities in our list
for i, city in enumerate(cities):
        
    # Group cities in sets of 50 for logging purposes
    if (i % 50 == 0 and i >= 50):
        set_count += 1
        record_count = 1

    # Create endpoint URL with each city
    city_url = url + "&q=" + city.replace(" ","+")
    
    # Log the url, record, and set numbers
    print(f"Processing Record {record_count} of Set {set_count} | {city}")

    # Add 1 to the record count
    record_count += 1

    # Run an API request for each of the cities
    try:
        city_weather = requests.get(city_url).json()
        # Parse out the max temp, humidity, and cloudiness
        city_lat = city_weather["coord"]["lat"]
        city_lng = city_weather["coord"]["lon"]
        city_max_temp = city_weather["main"]["temp_max"]
        city_humidity = city_weather["main"]["humidity"]
        city_clouds = city_weather["clouds"]["all"]
        city_wind = city_weather["wind"]["speed"]
        city_country = city_weather["sys"]["country"]
        city_weather_description = city_weather["weather"][0]["description"]       
            
            # Append the City information into city_data list
        city_data.append({"City": city.title(), 
                          "Lat": city_lat, 
                          "Lng": city_lng, 
                          "Max Temp": city_max_temp,
                          "Current Description": city_weather_description,
                          "Humidity": city_humidity,
                          "Cloudiness": city_clouds,
                          "Wind Speed": city_wind,
                          "Country": city_country})
    # If an error is experienced, skip the city

    except:
        print("City not found. Skipping...")
        pass

# Indicate that Data Loading is complete 
print("-----------------------------")
print("Data Retrieval Complete      ")
print("-----------------------------")
Beginning Data Retrieval     
-----------------------------
Processing Record 1 of Set 1 | mataura
Processing Record 2 of Set 1 | narsaq
Processing Record 3 of Set 1 | aksu
Processing Record 4 of Set 1 | provideniya
Processing Record 5 of Set 1 | bilibino
Processing Record 6 of Set 1 | barrow
Processing Record 7 of Set 1 | ribeira grande
Processing Record 8 of Set 1 | touros
Processing Record 9 of Set 1 | hasaki
Processing Record 10 of Set 1 | nizhneyansk
City not found. Skipping...
Processing Record 11 of Set 1 | hoquiam
Processing Record 12 of Set 1 | vaitupu
City not found. Skipping...
Processing Record 13 of Set 1 | morehead
Processing Record 14 of Set 1 | port elizabeth
Processing Record 15 of Set 1 | vardo
Processing Record 16 of Set 1 | carnarvon
Processing Record 17 of Set 1 | cairns
Processing Record 18 of Set 1 | ushuaia
Processing Record 19 of Set 1 | northam
Processing Record 20 of Set 1 | vostok
Processing Record 21 of Set 1 | hyderabad
Processing Record 22 of Set 1 | iqaluit
Processing Record 23 of Set 1 | port alfred
Processing Record 24 of Set 1 | cheuskiny
City not found. Skipping...
Processing Record 25 of Set 1 | cidreira
Processing Record 26 of Set 1 | atuona
Processing Record 27 of Set 1 | kapaa
Processing Record 28 of Set 1 | rio grande
Processing Record 29 of Set 1 | nikolskoye
Processing Record 30 of Set 1 | barentsburg
City not found. Skipping...
Processing Record 31 of Set 1 | abapo
Processing Record 32 of Set 1 | chihuahua
Processing Record 33 of Set 1 | arraial do cabo
Processing Record 34 of Set 1 | luganville
Processing Record 35 of Set 1 | lavrentiya
Processing Record 36 of Set 1 | dwarka
Processing Record 37 of Set 1 | hofn
Processing Record 38 of Set 1 | tasiilaq
Processing Record 39 of Set 1 | qaanaaq
Processing Record 40 of Set 1 | longyearbyen
Processing Record 41 of Set 1 | eureka
Processing Record 42 of Set 1 | guanare
Processing Record 43 of Set 1 | butaritari
Processing Record 44 of Set 1 | new norfolk
Processing Record 45 of Set 1 | casper
Processing Record 46 of Set 1 | mata
Processing Record 47 of Set 1 | oussouye
Processing Record 48 of Set 1 | bowen
Processing Record 49 of Set 1 | amderma
City not found. Skipping...
Processing Record 50 of Set 1 | vaini
Processing Record 1 of Set 2 | egvekinot
Processing Record 2 of Set 2 | gualaceo
Processing Record 3 of Set 2 | rikitea
Processing Record 4 of Set 2 | dikson
Processing Record 5 of Set 2 | opunake
Processing Record 6 of Set 2 | suwalki
Processing Record 7 of Set 2 | saskylakh
Processing Record 8 of Set 2 | severo-kurilsk
Processing Record 9 of Set 2 | bluff
Processing Record 10 of Set 2 | sfantu gheorghe
Processing Record 11 of Set 2 | port hardy
Processing Record 12 of Set 2 | pringsewu
Processing Record 13 of Set 2 | nacala
Processing Record 14 of Set 2 | busselton
Processing Record 15 of Set 2 | warqla
City not found. Skipping...
Processing Record 16 of Set 2 | yumen
Processing Record 17 of Set 2 | norman wells
Processing Record 18 of Set 2 | puerto ayora
Processing Record 19 of Set 2 | nanortalik
Processing Record 20 of Set 2 | korla
Processing Record 21 of Set 2 | hithadhoo
Processing Record 22 of Set 2 | tessalit
Processing Record 23 of Set 2 | souillac
Processing Record 24 of Set 2 | nukus
Processing Record 25 of Set 2 | codrington
Processing Record 26 of Set 2 | hualmay
Processing Record 27 of Set 2 | fukue
Processing Record 28 of Set 2 | upernavik
Processing Record 29 of Set 2 | bredasdorp
Processing Record 30 of Set 2 | grand gaube
Processing Record 31 of Set 2 | cape town
Processing Record 32 of Set 2 | bonthe
Processing Record 33 of Set 2 | punta arenas
Processing Record 34 of Set 2 | albany
Processing Record 35 of Set 2 | ponta do sol
Processing Record 36 of Set 2 | chokurdakh
Processing Record 37 of Set 2 | east london
Processing Record 38 of Set 2 | illoqqortoormiut
City not found. Skipping...
Processing Record 39 of Set 2 | abu jubayhah
City not found. Skipping...
Processing Record 40 of Set 2 | satipo
Processing Record 41 of Set 2 | chabahar
Processing Record 42 of Set 2 | shupiyan
Processing Record 43 of Set 2 | berlevag
Processing Record 44 of Set 2 | poum
Processing Record 45 of Set 2 | chara
Processing Record 46 of Set 2 | nouadhibou
Processing Record 47 of Set 2 | vestmannaeyjar
Processing Record 48 of Set 2 | ossora
Processing Record 49 of Set 2 | samoded
Processing Record 50 of Set 2 | labuhan
Processing Record 1 of Set 3 | san pedro
Processing Record 2 of Set 3 | anloga
Processing Record 3 of Set 3 | kjollefjord
Processing Record 4 of Set 3 | gimli
Processing Record 5 of Set 3 | lufkin
Processing Record 6 of Set 3 | atar
Processing Record 7 of Set 3 | belushya guba
City not found. Skipping...
Processing Record 8 of Set 3 | kavieng
Processing Record 9 of Set 3 | villa bruzual
Processing Record 10 of Set 3 | neryungri
Processing Record 11 of Set 3 | tabiauea
City not found. Skipping...
Processing Record 12 of Set 3 | manokwari
Processing Record 13 of Set 3 | guerrero negro
Processing Record 14 of Set 3 | salinas
Processing Record 15 of Set 3 | salekhard
Processing Record 16 of Set 3 | saint-philippe
Processing Record 17 of Set 3 | dzaoudzi
Processing Record 18 of Set 3 | montrose
Processing Record 19 of Set 3 | pingzhuang
Processing Record 20 of Set 3 | luderitz
Processing Record 21 of Set 3 | kodiak
Processing Record 22 of Set 3 | senneterre
Processing Record 23 of Set 3 | batagay
Processing Record 24 of Set 3 | nokaneng
Processing Record 25 of Set 3 | bestobe
Processing Record 26 of Set 3 | nemuro
Processing Record 27 of Set 3 | taolanaro
City not found. Skipping...
Processing Record 28 of Set 3 | thunder bay
Processing Record 29 of Set 3 | katsuura
Processing Record 30 of Set 3 | thinadhoo
Processing Record 31 of Set 3 | college
Processing Record 32 of Set 3 | hobart
Processing Record 33 of Set 3 | khatanga
Processing Record 34 of Set 3 | san quintin
Processing Record 35 of Set 3 | vytegra
Processing Record 36 of Set 3 | la ronge
Processing Record 37 of Set 3 | barao de melgaco
Processing Record 38 of Set 3 | ojinaga
Processing Record 39 of Set 3 | kalmunai
Processing Record 40 of Set 3 | paamiut
Processing Record 41 of Set 3 | victoria
Processing Record 42 of Set 3 | ibra
Processing Record 43 of Set 3 | lulea
Processing Record 44 of Set 3 | padilla
Processing Record 45 of Set 3 | alice springs
Processing Record 46 of Set 3 | pacific grove
Processing Record 47 of Set 3 | calatayud
Processing Record 48 of Set 3 | ust-bolsheretsk
City not found. Skipping...
Processing Record 49 of Set 3 | talnakh
Processing Record 50 of Set 3 | flinders
Processing Record 1 of Set 4 | washington
Processing Record 2 of Set 4 | kutum
Processing Record 3 of Set 4 | imbituba
Processing Record 4 of Set 4 | mount gambier
Processing Record 5 of Set 4 | hermanus
Processing Record 6 of Set 4 | sentyabrskiy
City not found. Skipping...
Processing Record 7 of Set 4 | rundu
Processing Record 8 of Set 4 | bethel
Processing Record 9 of Set 4 | beyneu
Processing Record 10 of Set 4 | kahului
Processing Record 11 of Set 4 | tuktoyaktuk
Processing Record 12 of Set 4 | torbay
Processing Record 13 of Set 4 | nome
Processing Record 14 of Set 4 | chunhuhub
Processing Record 15 of Set 4 | avarua
Processing Record 16 of Set 4 | havre
Processing Record 17 of Set 4 | muzhi
Processing Record 18 of Set 4 | beira
Processing Record 19 of Set 4 | haines junction
Processing Record 20 of Set 4 | airai
Processing Record 21 of Set 4 | nouna
Processing Record 22 of Set 4 | kijang
Processing Record 23 of Set 4 | alenquer
Processing Record 24 of Set 4 | chuy
Processing Record 25 of Set 4 | west bay
Processing Record 26 of Set 4 | porbandar
Processing Record 27 of Set 4 | eregli
Processing Record 28 of Set 4 | camacupa
Processing Record 29 of Set 4 | manzanillo
Processing Record 30 of Set 4 | kaitangata
Processing Record 31 of Set 4 | mys shmidta
City not found. Skipping...
Processing Record 32 of Set 4 | tiksi
Processing Record 33 of Set 4 | faanui
Processing Record 34 of Set 4 | kruisfontein
Processing Record 35 of Set 4 | kuntaur
Processing Record 36 of Set 4 | mingguang
Processing Record 37 of Set 4 | grants pass
Processing Record 38 of Set 4 | prado
Processing Record 39 of Set 4 | palabuhanratu
City not found. Skipping...
Processing Record 40 of Set 4 | sisimiut
Processing Record 41 of Set 4 | mabaruma
Processing Record 42 of Set 4 | chernyshevskiy
Processing Record 43 of Set 4 | caravelas
Processing Record 44 of Set 4 | castro
Processing Record 45 of Set 4 | karkaralinsk
City not found. Skipping...
Processing Record 46 of Set 4 | broome
Processing Record 47 of Set 4 | bani
Processing Record 48 of Set 4 | tooele
Processing Record 49 of Set 4 | gay
Processing Record 50 of Set 4 | beringovskiy
Processing Record 1 of Set 5 | thompson
Processing Record 2 of Set 5 | brisbane
Processing Record 3 of Set 5 | san patricio
Processing Record 4 of Set 5 | sault sainte marie
Processing Record 5 of Set 5 | zaranj
Processing Record 6 of Set 5 | polunochnoye
Processing Record 7 of Set 5 | sretensk
Processing Record 8 of Set 5 | puri
Processing Record 9 of Set 5 | ketchikan
Processing Record 10 of Set 5 | kalispell
Processing Record 11 of Set 5 | sarkand
Processing Record 12 of Set 5 | kuressaare
Processing Record 13 of Set 5 | hilo
Processing Record 14 of Set 5 | bengkulu
Processing Record 15 of Set 5 | ilulissat
Processing Record 16 of Set 5 | beloha
Processing Record 17 of Set 5 | barrhead
Processing Record 18 of Set 5 | gat
Processing Record 19 of Set 5 | port keats
Processing Record 20 of Set 5 | souris
Processing Record 21 of Set 5 | khash
Processing Record 22 of Set 5 | cozumel
Processing Record 23 of Set 5 | sidi ali
Processing Record 24 of Set 5 | meadow lake
Processing Record 25 of Set 5 | cabo san lucas
Processing Record 26 of Set 5 | rawson
Processing Record 27 of Set 5 | ostrovnoy
Processing Record 28 of Set 5 | esperance
Processing Record 29 of Set 5 | banjar
Processing Record 30 of Set 5 | miandrivazo
Processing Record 31 of Set 5 | anadyr
Processing Record 32 of Set 5 | nikki
Processing Record 33 of Set 5 | zhigansk
Processing Record 34 of Set 5 | lewiston
Processing Record 35 of Set 5 | georgetown
Processing Record 36 of Set 5 | busia
Processing Record 37 of Set 5 | husavik
Processing Record 38 of Set 5 | bolcske
Processing Record 39 of Set 5 | mahebourg
Processing Record 40 of Set 5 | pundaguitan
Processing Record 41 of Set 5 | avera
Processing Record 42 of Set 5 | rincon
Processing Record 43 of Set 5 | dekar
Processing Record 44 of Set 5 | palanga
Processing Record 45 of Set 5 | raudeberg
Processing Record 46 of Set 5 | mar del plata
Processing Record 47 of Set 5 | ancud
Processing Record 48 of Set 5 | chippewa falls
Processing Record 49 of Set 5 | san lorenzo
Processing Record 50 of Set 5 | pisco
Processing Record 1 of Set 6 | sao filipe
Processing Record 2 of Set 6 | chiquilistlan
Processing Record 3 of Set 6 | saint-dizier
Processing Record 4 of Set 6 | margate
Processing Record 5 of Set 6 | dingle
Processing Record 6 of Set 6 | tilichiki
Processing Record 7 of Set 6 | vuktyl
Processing Record 8 of Set 6 | gorom-gorom
Processing Record 9 of Set 6 | saveh
Processing Record 10 of Set 6 | angoche
Processing Record 11 of Set 6 | tuatapere
Processing Record 12 of Set 6 | shimoda
Processing Record 13 of Set 6 | steinbach
Processing Record 14 of Set 6 | sliema
Processing Record 15 of Set 6 | tomigusuku
Processing Record 16 of Set 6 | xinmin
Processing Record 17 of Set 6 | klaksvik
Processing Record 18 of Set 6 | samarai
Processing Record 19 of Set 6 | kandrian
Processing Record 20 of Set 6 | pevek
Processing Record 21 of Set 6 | mogadishu
Processing Record 22 of Set 6 | kisaran
Processing Record 23 of Set 6 | xuanhua
Processing Record 24 of Set 6 | saint-francois
Processing Record 25 of Set 6 | sitka
Processing Record 26 of Set 6 | tidore
City not found. Skipping...
Processing Record 27 of Set 6 | isangel
Processing Record 28 of Set 6 | voyvozh
Processing Record 29 of Set 6 | hohhot
Processing Record 30 of Set 6 | znamenskoye
Processing Record 31 of Set 6 | bambous virieux
Processing Record 32 of Set 6 | terra santa
Processing Record 33 of Set 6 | bisignano
Processing Record 34 of Set 6 | portel
Processing Record 35 of Set 6 | matara
Processing Record 36 of Set 6 | meulaboh
Processing Record 37 of Set 6 | fryanovo
Processing Record 38 of Set 6 | kuchl
Processing Record 39 of Set 6 | aykhal
Processing Record 40 of Set 6 | pangody
Processing Record 41 of Set 6 | tura
Processing Record 42 of Set 6 | tambo grande
Processing Record 43 of Set 6 | mbalmayo
Processing Record 44 of Set 6 | charlestown
Processing Record 45 of Set 6 | mizdah
Processing Record 46 of Set 6 | marsala
Processing Record 47 of Set 6 | turukhansk
Processing Record 48 of Set 6 | buala
Processing Record 49 of Set 6 | palmer
Processing Record 50 of Set 6 | nicoya
Processing Record 1 of Set 7 | nichinan
Processing Record 2 of Set 7 | muisne
Processing Record 3 of Set 7 | gandai
Processing Record 4 of Set 7 | ndele
Processing Record 5 of Set 7 | zhangye
Processing Record 6 of Set 7 | port-cartier
Processing Record 7 of Set 7 | duncanville
Processing Record 8 of Set 7 | benghazi
Processing Record 9 of Set 7 | erzin
Processing Record 10 of Set 7 | adet
Processing Record 11 of Set 7 | lolua
City not found. Skipping...
Processing Record 12 of Set 7 | mount pleasant
Processing Record 13 of Set 7 | mount hagen
Processing Record 14 of Set 7 | garavuti
Processing Record 15 of Set 7 | chakwal
Processing Record 16 of Set 7 | narrabri
Processing Record 17 of Set 7 | havelock
Processing Record 18 of Set 7 | porto santo
Processing Record 19 of Set 7 | antofagasta
Processing Record 20 of Set 7 | tomatlan
Processing Record 21 of Set 7 | hamilton
Processing Record 22 of Set 7 | sioux falls
Processing Record 23 of Set 7 | jibuti
Processing Record 24 of Set 7 | szihalom
Processing Record 25 of Set 7 | mihail kogalniceanu
Processing Record 26 of Set 7 | alto vera
City not found. Skipping...
Processing Record 27 of Set 7 | lagoa
Processing Record 28 of Set 7 | khabary
Processing Record 29 of Set 7 | roma
Processing Record 30 of Set 7 | puerto baquerizo moreno
Processing Record 31 of Set 7 | acapulco
Processing Record 32 of Set 7 | chekhov
Processing Record 33 of Set 7 | barawe
City not found. Skipping...
Processing Record 34 of Set 7 | luoyang
Processing Record 35 of Set 7 | kuche
City not found. Skipping...
Processing Record 36 of Set 7 | laguna
Processing Record 37 of Set 7 | maputo
Processing Record 38 of Set 7 | port macquarie
Processing Record 39 of Set 7 | saleaula
City not found. Skipping...
Processing Record 40 of Set 7 | severodvinsk
Processing Record 41 of Set 7 | aklavik
Processing Record 42 of Set 7 | geraldton
Processing Record 43 of Set 7 | las vegas
Processing Record 44 of Set 7 | tsihombe
City not found. Skipping...
Processing Record 45 of Set 7 | mount isa
Processing Record 46 of Set 7 | tazovskiy
Processing Record 47 of Set 7 | severomuysk
Processing Record 48 of Set 7 | mochudi
Processing Record 49 of Set 7 | bucak
Processing Record 50 of Set 7 | tha rua
Processing Record 1 of Set 8 | berezovyy
Processing Record 2 of Set 8 | attawapiskat
City not found. Skipping...
Processing Record 3 of Set 8 | mudanya
Processing Record 4 of Set 8 | yellowknife
Processing Record 5 of Set 8 | fairbanks
Processing Record 6 of Set 8 | muroto
Processing Record 7 of Set 8 | sabang
Processing Record 8 of Set 8 | matamoros
Processing Record 9 of Set 8 | lincoln
Processing Record 10 of Set 8 | juneau
Processing Record 11 of Set 8 | laurinburg
Processing Record 12 of Set 8 | rio gallegos
Processing Record 13 of Set 8 | olafsvik
Processing Record 14 of Set 8 | kyabram
Processing Record 15 of Set 8 | leisure city
Processing Record 16 of Set 8 | tifton
Processing Record 17 of Set 8 | minab
Processing Record 18 of Set 8 | meyungs
City not found. Skipping...
Processing Record 19 of Set 8 | kuopio
Processing Record 20 of Set 8 | saldanha
Processing Record 21 of Set 8 | rungata
City not found. Skipping...
Processing Record 22 of Set 8 | zhangjiakou
Processing Record 23 of Set 8 | grand river south east
City not found. Skipping...
Processing Record 24 of Set 8 | jamestown
Processing Record 25 of Set 8 | tarko-sale
Processing Record 26 of Set 8 | kamalapuram
Processing Record 27 of Set 8 | alofi
Processing Record 28 of Set 8 | gornyy
Processing Record 29 of Set 8 | nosy varika
Processing Record 30 of Set 8 | banda aceh
Processing Record 31 of Set 8 | cartagena
Processing Record 32 of Set 8 | tucurui
Processing Record 33 of Set 8 | valdemarpils
Processing Record 34 of Set 8 | przhevalskoye
Processing Record 35 of Set 8 | trinidad
Processing Record 36 of Set 8 | jinzhou
Processing Record 37 of Set 8 | lipari
Processing Record 38 of Set 8 | byron bay
Processing Record 39 of Set 8 | yar-sale
Processing Record 40 of Set 8 | carahue
Processing Record 41 of Set 8 | saint-pierre
Processing Record 42 of Set 8 | cayenne
Processing Record 43 of Set 8 | novorzhev
Processing Record 44 of Set 8 | haapsalu
Processing Record 45 of Set 8 | springdale
Processing Record 46 of Set 8 | roebourne
Processing Record 47 of Set 8 | boke
Processing Record 48 of Set 8 | monrovia
Processing Record 49 of Set 8 | morro bay
Processing Record 50 of Set 8 | salalah
Processing Record 1 of Set 9 | vasto
Processing Record 2 of Set 9 | huarmey
Processing Record 3 of Set 9 | verkhniy lomov
Processing Record 4 of Set 9 | la asuncion
Processing Record 5 of Set 9 | mashhad
Processing Record 6 of Set 9 | fushun
Processing Record 7 of Set 9 | sayyan
Processing Record 8 of Set 9 | leshukonskoye
Processing Record 9 of Set 9 | vao
Processing Record 10 of Set 9 | oranjestad
Processing Record 11 of Set 9 | gainesville
Processing Record 12 of Set 9 | fortuna
Processing Record 13 of Set 9 | pochutla
Processing Record 14 of Set 9 | imeni poliny osipenko
Processing Record 15 of Set 9 | lazarev
Processing Record 16 of Set 9 | lebu
Processing Record 17 of Set 9 | sur
Processing Record 18 of Set 9 | coquimbo
Processing Record 19 of Set 9 | saint george
Processing Record 20 of Set 9 | boguchany
Processing Record 21 of Set 9 | marcona
City not found. Skipping...
Processing Record 22 of Set 9 | mopti
Processing Record 23 of Set 9 | muli
Processing Record 24 of Set 9 | mao
Processing Record 25 of Set 9 | smithers
Processing Record 26 of Set 9 | itarema
Processing Record 27 of Set 9 | ahipara
Processing Record 28 of Set 9 | kharp
Processing Record 29 of Set 9 | mackenzie
Processing Record 30 of Set 9 | sobolevo
Processing Record 31 of Set 9 | marshalltown
Processing Record 32 of Set 9 | kaabong
Processing Record 33 of Set 9 | gondanglegi
Processing Record 34 of Set 9 | saint-denis
Processing Record 35 of Set 9 | aksha
Processing Record 36 of Set 9 | sept-iles
Processing Record 37 of Set 9 | paciran
Processing Record 38 of Set 9 | nouakchott
Processing Record 39 of Set 9 | pondicherry
Processing Record 40 of Set 9 | date
Processing Record 41 of Set 9 | padang
Processing Record 42 of Set 9 | taber
Processing Record 43 of Set 9 | bubaque
Processing Record 44 of Set 9 | cascais
Processing Record 45 of Set 9 | karaul
City not found. Skipping...
Processing Record 46 of Set 9 | altay
Processing Record 47 of Set 9 | simpang
Processing Record 48 of Set 9 | amboise
Processing Record 49 of Set 9 | pauini
Processing Record 50 of Set 9 | poso
Processing Record 1 of Set 10 | middle island
Processing Record 2 of Set 10 | progreso
Processing Record 3 of Set 10 | emerald
Processing Record 4 of Set 10 | bozhou
Processing Record 5 of Set 10 | richards bay
Processing Record 6 of Set 10 | manohar thana
Processing Record 7 of Set 10 | osypenko
Processing Record 8 of Set 10 | nizhniy tsasuchey
Processing Record 9 of Set 10 | stonehaven
Processing Record 10 of Set 10 | galle
Processing Record 11 of Set 10 | mingshui
Processing Record 12 of Set 10 | santa fe
Processing Record 13 of Set 10 | maua
Processing Record 14 of Set 10 | angarsk
Processing Record 15 of Set 10 | merauke
Processing Record 16 of Set 10 | homer
Processing Record 17 of Set 10 | kalakamati
Processing Record 18 of Set 10 | liverpool
Processing Record 19 of Set 10 | brigantine
Processing Record 20 of Set 10 | mishan
Processing Record 21 of Set 10 | kibaya
Processing Record 22 of Set 10 | katherine
Processing Record 23 of Set 10 | katsiveli
City not found. Skipping...
Processing Record 24 of Set 10 | cherskiy
Processing Record 25 of Set 10 | nkowakowa
Processing Record 26 of Set 10 | port lincoln
Processing Record 27 of Set 10 | azimur
City not found. Skipping...
Processing Record 28 of Set 10 | iracoubo
Processing Record 29 of Set 10 | da nang
Processing Record 30 of Set 10 | henties bay
Processing Record 31 of Set 10 | umzimvubu
City not found. Skipping...
Processing Record 32 of Set 10 | storm lake
Processing Record 33 of Set 10 | tottori
Processing Record 34 of Set 10 | carutapera
Processing Record 35 of Set 10 | baghdad
Processing Record 36 of Set 10 | rawannawi
City not found. Skipping...
Processing Record 37 of Set 10 | diofior
Processing Record 38 of Set 10 | cambridge
Processing Record 39 of Set 10 | ikom
Processing Record 40 of Set 10 | strabychovo
Processing Record 41 of Set 10 | salinopolis
Processing Record 42 of Set 10 | ambulu
Processing Record 43 of Set 10 | trairi
Processing Record 44 of Set 10 | nassau
Processing Record 45 of Set 10 | envira
Processing Record 46 of Set 10 | casas grandes
Processing Record 47 of Set 10 | malatya
Processing Record 48 of Set 10 | santo antonio da platina
Processing Record 49 of Set 10 | hovd
Processing Record 50 of Set 10 | bristol
Processing Record 1 of Set 11 | krotoszyn
Processing Record 2 of Set 11 | lysyye gory
Processing Record 3 of Set 11 | saurimo
Processing Record 4 of Set 11 | lentekhi
Processing Record 5 of Set 11 | kamenka
Processing Record 6 of Set 11 | bolonchen
City not found. Skipping...
Processing Record 7 of Set 11 | makakilo city
Processing Record 8 of Set 11 | clarksburg
Processing Record 9 of Set 11 | kodinsk
Processing Record 10 of Set 11 | nago
Processing Record 11 of Set 11 | banikoara
Processing Record 12 of Set 11 | constitucion
Processing Record 13 of Set 11 | luga
Processing Record 14 of Set 11 | praia da vitoria
Processing Record 15 of Set 11 | katobu
Processing Record 16 of Set 11 | srednekolymsk
Processing Record 17 of Set 11 | dullewala
Processing Record 18 of Set 11 | grenville
Processing Record 19 of Set 11 | ust-tsilma
Processing Record 20 of Set 11 | tumannyy
City not found. Skipping...
Processing Record 21 of Set 11 | bandarbeyla
Processing Record 22 of Set 11 | lorengau
Processing Record 23 of Set 11 | tautira
Processing Record 24 of Set 11 | maragogi
Processing Record 25 of Set 11 | caraballeda
Processing Record 26 of Set 11 | khalki
Processing Record 27 of Set 11 | azacualpa
Processing Record 28 of Set 11 | sakaiminato
Processing Record 29 of Set 11 | raymondville
Processing Record 30 of Set 11 | naze
Processing Record 31 of Set 11 | kayes
Processing Record 32 of Set 11 | kibondo
Processing Record 33 of Set 11 | aksarka
Processing Record 34 of Set 11 | zelenoborsk
Processing Record 35 of Set 11 | mbini
Processing Record 36 of Set 11 | namibe
Processing Record 37 of Set 11 | portland
Processing Record 38 of Set 11 | itiuba
Processing Record 39 of Set 11 | noumea
Processing Record 40 of Set 11 | port blair
Processing Record 41 of Set 11 | moree
Processing Record 42 of Set 11 | sibolga
Processing Record 43 of Set 11 | taburi
City not found. Skipping...
Processing Record 44 of Set 11 | nipawin
Processing Record 45 of Set 11 | camana
Processing Record 46 of Set 11 | odweyne
Processing Record 47 of Set 11 | uzunovo
Processing Record 48 of Set 11 | mariental
Processing Record 49 of Set 11 | khonuu
City not found. Skipping...
Processing Record 50 of Set 11 | jamame
Processing Record 1 of Set 12 | soyo
Processing Record 2 of Set 12 | lapeer
Processing Record 3 of Set 12 | bara
Processing Record 4 of Set 12 | namatanai
Processing Record 5 of Set 12 | itanagar
Processing Record 6 of Set 12 | talara
Processing Record 7 of Set 12 | lichtenburg
Processing Record 8 of Set 12 | phan rang
City not found. Skipping...
Processing Record 9 of Set 12 | patawag
Processing Record 10 of Set 12 | vetlanda
Processing Record 11 of Set 12 | parainen
Processing Record 12 of Set 12 | middlebury
Processing Record 13 of Set 12 | plettenberg bay
Processing Record 14 of Set 12 | kashi
Processing Record 15 of Set 12 | aripuana
Processing Record 16 of Set 12 | faya
Processing Record 17 of Set 12 | khasan
Processing Record 18 of Set 12 | bathsheba
Processing Record 19 of Set 12 | shar
Processing Record 20 of Set 12 | cardoso
Processing Record 21 of Set 12 | mackay
Processing Record 22 of Set 12 | antsohihy
Processing Record 23 of Set 12 | guilin
Processing Record 24 of Set 12 | oksfjord
Processing Record 25 of Set 12 | yabrud
Processing Record 26 of Set 12 | aracati
Processing Record 27 of Set 12 | lubu
Processing Record 28 of Set 12 | charagua
Processing Record 29 of Set 12 | malanje
Processing Record 30 of Set 12 | kuryk
Processing Record 31 of Set 12 | fort nelson
Processing Record 32 of Set 12 | japura
Processing Record 33 of Set 12 | shelburne
Processing Record 34 of Set 12 | calama
Processing Record 35 of Set 12 | turan
Processing Record 36 of Set 12 | piney green
Processing Record 37 of Set 12 | langarud
Processing Record 38 of Set 12 | hobyo
Processing Record 39 of Set 12 | mersing
Processing Record 40 of Set 12 | wuan
Processing Record 41 of Set 12 | kaminoyama
Processing Record 42 of Set 12 | kang
Processing Record 43 of Set 12 | jiddah
City not found. Skipping...
Processing Record 44 of Set 12 | sao francisco
Processing Record 45 of Set 12 | salta
Processing Record 46 of Set 12 | nampula
Processing Record 47 of Set 12 | westport
Processing Record 48 of Set 12 | broken hill
Processing Record 49 of Set 12 | labutta
City not found. Skipping...
Processing Record 50 of Set 12 | staryy nadym
Processing Record 1 of Set 13 | necochea
Processing Record 2 of Set 13 | semme
Processing Record 3 of Set 13 | auki
Processing Record 4 of Set 13 | lata
Processing Record 5 of Set 13 | ulaangom
Processing Record 6 of Set 13 | nuuk
Processing Record 7 of Set 13 | asau
Processing Record 8 of Set 13 | barroualie
City not found. Skipping...
Processing Record 9 of Set 13 | huicungo
Processing Record 10 of Set 13 | kalabo
Processing Record 11 of Set 13 | rogovatoye
Processing Record 12 of Set 13 | lucea
Processing Record 13 of Set 13 | frontera
Processing Record 14 of Set 13 | prince rupert
Processing Record 15 of Set 13 | vila franca do campo
Processing Record 16 of Set 13 | gamba
Processing Record 17 of Set 13 | komsomolskiy
Processing Record 18 of Set 13 | deputatskiy
Processing Record 19 of Set 13 | mangrol
Processing Record 20 of Set 13 | tanggu
Processing Record 21 of Set 13 | ilam
Processing Record 22 of Set 13 | escuinapa
Processing Record 23 of Set 13 | hami
Processing Record 24 of Set 13 | la rioja
Processing Record 25 of Set 13 | seydi
Processing Record 26 of Set 13 | calabozo
Processing Record 27 of Set 13 | mitu
Processing Record 28 of Set 13 | teahupoo
Processing Record 29 of Set 13 | xiongzhou
Processing Record 30 of Set 13 | fuerte olimpo
Processing Record 31 of Set 13 | kargil
Processing Record 32 of Set 13 | pangnirtung
Processing Record 33 of Set 13 | mariestad
Processing Record 34 of Set 13 | risor
Processing Record 35 of Set 13 | statesville
Processing Record 36 of Set 13 | corpus christi
Processing Record 37 of Set 13 | haibowan
City not found. Skipping...
Processing Record 38 of Set 13 | palana
Processing Record 39 of Set 13 | lompoc
Processing Record 40 of Set 13 | jinxiang
Processing Record 41 of Set 13 | zanjan
Processing Record 42 of Set 13 | karamay
City not found. Skipping...
Processing Record 43 of Set 13 | marawi
Processing Record 44 of Set 13 | camopi
Processing Record 45 of Set 13 | horta
Processing Record 46 of Set 13 | ashqelon
Processing Record 47 of Set 13 | saint-augustin
Processing Record 48 of Set 13 | benguela
Processing Record 49 of Set 13 | bintulu
Processing Record 50 of Set 13 | timmins
Processing Record 1 of Set 14 | scarborough
Processing Record 2 of Set 14 | sistranda
Processing Record 3 of Set 14 | tiarei
Processing Record 4 of Set 14 | santa teresa
Processing Record 5 of Set 14 | loubomo
Processing Record 6 of Set 14 | reconquista
Processing Record 7 of Set 14 | goderich
Processing Record 8 of Set 14 | kerman
Processing Record 9 of Set 14 | ampanihy
Processing Record 10 of Set 14 | sibiti
Processing Record 11 of Set 14 | kieta
Processing Record 12 of Set 14 | dakar
Processing Record 13 of Set 14 | tabou
Processing Record 14 of Set 14 | tema
Processing Record 15 of Set 14 | sicamous
Processing Record 16 of Set 14 | bar harbor
Processing Record 17 of Set 14 | sulangan
Processing Record 18 of Set 14 | yulara
Processing Record 19 of Set 14 | santarem
Processing Record 20 of Set 14 | yongan
Processing Record 21 of Set 14 | makambako
Processing Record 22 of Set 14 | sakakah
Processing Record 23 of Set 14 | comodoro rivadavia
Processing Record 24 of Set 14 | launceston
Processing Record 25 of Set 14 | amapa
Processing Record 26 of Set 14 | quatre cocos
Processing Record 27 of Set 14 | warrington
Processing Record 28 of Set 14 | verkhoyansk
Processing Record 29 of Set 14 | tahe
Processing Record 30 of Set 14 | kholtoson
Processing Record 31 of Set 14 | jefferson city
Processing Record 32 of Set 14 | reefton
City not found. Skipping...
Processing Record 33 of Set 14 | soto la marina
Processing Record 34 of Set 14 | gayny
Processing Record 35 of Set 14 | benton harbor
Processing Record 36 of Set 14 | el penon
Processing Record 37 of Set 14 | grindavik
Processing Record 38 of Set 14 | shu
Processing Record 39 of Set 14 | zhuhai
Processing Record 40 of Set 14 | senanga
Processing Record 41 of Set 14 | matadi
Processing Record 42 of Set 14 | natal
Processing Record 43 of Set 14 | chagda
City not found. Skipping...
Processing Record 44 of Set 14 | mananjary
Processing Record 45 of Set 14 | kuytun
Processing Record 46 of Set 14 | belmonte
Processing Record 47 of Set 14 | ingham
Processing Record 48 of Set 14 | garowe
Processing Record 49 of Set 14 | rosario oeste
Processing Record 50 of Set 14 | kulhudhuffushi
Processing Record 1 of Set 15 | lafiagi
Processing Record 2 of Set 15 | mocambique
City not found. Skipping...
Processing Record 3 of Set 15 | khorixas
Processing Record 4 of Set 15 | karauzyak
City not found. Skipping...
Processing Record 5 of Set 15 | carnot
Processing Record 6 of Set 15 | aitape
Processing Record 7 of Set 15 | kanbe
Processing Record 8 of Set 15 | atambua
Processing Record 9 of Set 15 | ilebo
Processing Record 10 of Set 15 | mtwara
Processing Record 11 of Set 15 | jiamusi
Processing Record 12 of Set 15 | storozhevaya
Processing Record 13 of Set 15 | ewa beach
Processing Record 14 of Set 15 | burke
Processing Record 15 of Set 15 | ayan
Processing Record 16 of Set 15 | voloshka
Processing Record 17 of Set 15 | lakatoro
Processing Record 18 of Set 15 | rocha
Processing Record 19 of Set 15 | lakeside
Processing Record 20 of Set 15 | hirara
Processing Record 21 of Set 15 | shache
Processing Record 22 of Set 15 | moju
Processing Record 23 of Set 15 | komsomolsk
Processing Record 24 of Set 15 | kaduqli
Processing Record 25 of Set 15 | port pirie
Processing Record 26 of Set 15 | villagarzon
Processing Record 27 of Set 15 | dolbeau
City not found. Skipping...
Processing Record 28 of Set 15 | waipawa
Processing Record 29 of Set 15 | keti bandar
Processing Record 30 of Set 15 | kaeo
Processing Record 31 of Set 15 | te anau
Processing Record 32 of Set 15 | atbasar
Processing Record 33 of Set 15 | ishigaki
Processing Record 34 of Set 15 | kupang
Processing Record 35 of Set 15 | caluquembe
Processing Record 36 of Set 15 | suluq
Processing Record 37 of Set 15 | ormara
Processing Record 38 of Set 15 | port hedland
Processing Record 39 of Set 15 | stoyba
City not found. Skipping...
Processing Record 40 of Set 15 | traverse city
Processing Record 41 of Set 15 | berezyne
Processing Record 42 of Set 15 | klyuchi
Processing Record 43 of Set 15 | kozluk
Processing Record 44 of Set 15 | aberdeen
Processing Record 45 of Set 15 | kostomuksha
Processing Record 46 of Set 15 | prince albert
Processing Record 47 of Set 15 | baltay
Processing Record 48 of Set 15 | moose factory
Processing Record 49 of Set 15 | nyurba
Processing Record 50 of Set 15 | sabratah
Processing Record 1 of Set 16 | mezen
Processing Record 2 of Set 16 | samusu
City not found. Skipping...
Processing Record 3 of Set 16 | trelew
Processing Record 4 of Set 16 | muravlenko
Processing Record 5 of Set 16 | wuwei
Processing Record 6 of Set 16 | chake chake
Processing Record 7 of Set 16 | januaria
Processing Record 8 of Set 16 | san jose
Processing Record 9 of Set 16 | soe
-----------------------------
Data Retrieval Complete      
-----------------------------
In [8]:
len(city_data)
Out[8]:
709
In [9]:
# Convert array of dictionaries to a pandas DataFrame.
city_data_df = pd.DataFrame(city_data)
In [10]:
city_data_df.head(10)
Out[10]:
City	Lat	Lng	Max Temp	Current Description	Humidity	Cloudiness	Wind Speed	Country
0	Mataura	-46.19	168.86	39.00	clear sky	83	2	3.00	NZ
1	Narsaq	60.92	-46.05	44.60	shower rain	75	75	2.24	GL
2	Aksu	41.12	80.26	82.42	clear sky	22	6	5.08	CN
3	Provideniya	64.38	-173.30	40.84	clear sky	68	0	0.69	RU
4	Bilibino	68.05	166.44	54.82	overcast clouds	53	100	4.29	RU
5	Barrow	71.29	-156.79	37.40	overcast clouds	89	90	16.11	US
6	Ribeira Grande	38.52	-28.70	69.80	few clouds	73	20	20.80	PT
7	Touros	-5.20	-35.46	80.60	broken clouds	74	75	11.41	BR
8	Hasaki	35.73	140.83	66.20	light intensity drizzle rain	100	75	4.70	JP
9	Hoquiam	46.98	-123.89	55.00	overcast clouds	100	90	0.78	US
In [11]:
city_data_df.columns
Out[11]:
Index(['City', 'Lat', 'Lng', 'Max Temp', 'Current Description', 'Humidity',
       'Cloudiness', 'Wind Speed', 'Country'],
      dtype='object')
In [12]:
# Reorder the columns in the order you want them to appear.
new_column_order = ["City", "Country", "Lat",
                    "Lng", "Max Temp", "Humidity", 
                    "Cloudiness", "Wind Speed", 
                    "Current Description"] 

# Assign a new or the same DataFrame the new column order.
city_data_df = city_data_df[new_column_order]
city_data_df.head(10)
Out[12]:
City	Country	Lat	Lng	Max Temp	Humidity	Cloudiness	Wind Speed	Current Description
0	Mataura	NZ	-46.19	168.86	39.00	83	2	3.00	clear sky
1	Narsaq	GL	60.92	-46.05	44.60	75	75	2.24	shower rain
2	Aksu	CN	41.12	80.26	82.42	22	6	5.08	clear sky
3	Provideniya	RU	64.38	-173.30	40.84	68	0	0.69	clear sky
4	Bilibino	RU	68.05	166.44	54.82	53	100	4.29	overcast clouds
5	Barrow	US	71.29	-156.79	37.40	89	90	16.11	overcast clouds
6	Ribeira Grande	PT	38.52	-28.70	69.80	73	20	20.80	few clouds
7	Touros	BR	-5.20	-35.46	80.60	74	75	11.41	broken clouds
8	Hasaki	JP	35.73	140.83	66.20	100	75	4.70	light intensity drizzle rain
9	Hoquiam	US	46.98	-123.89	55.00	100	90	0.78	overcast clouds
In [13]:
city_data_df.dtypes
Out[13]:
City                    object
Country                 object
Lat                    float64
Lng                    float64
Max Temp               float64
Humidity                 int64
Cloudiness               int64
Wind Speed             float64
Current Description     object
dtype: object
In [14]:
# Create the output File (CSV)
output_data_file = "Weather_Database/WeatherPy_Database.csv"
# Export the city_data into a csv
city_data_df.to_csv(output_data_file, index_label="City_ID")
In [ ]:
