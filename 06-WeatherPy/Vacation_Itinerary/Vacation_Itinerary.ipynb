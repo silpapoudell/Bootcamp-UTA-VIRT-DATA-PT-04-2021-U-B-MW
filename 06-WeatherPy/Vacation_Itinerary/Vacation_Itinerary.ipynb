
Deliverable 3. Create a Travel Itinerary Map.
Import the vacation CSV file.
From the map above with pick 4 cities that are in close proximity (on the same continent) that the customer would travel to and create a directions layer map.
For the "travel_mode" use either "DRIVING", "BICYCLING", or "WALKING".
Take a screenshot of the route and save it.
Then create a marker layer for the four cities. Each city will should have a pop-up marker that contains
The hotel name
The city
The country
The current weather description and the maximum temperature
In [1]:
# Dependencies and Setup
import pandas as pd
import requests
import gmaps

# Import API key
from config import g_key
In [2]:
# Configure gmaps
gmaps.configure(api_key=g_key)
In [3]:
# 1. Read the WeatherPy_vacation.csv into a DataFrame
vacation_df = pd.read_csv("Vacation_Search/WeatherPy_vacation.csv")
vacation_df.head()
Out[3]:
City_ID	City	Country	Max Temp	Current Description	Lat	Lng	Hotel Name
0	2	Aksu	CN	82.42	clear sky	41.12	80.26	Pudong Holiday Hotel
1	7	Touros	BR	80.60	broken clouds	-5.20	-35.46	INN NEW HORIZON
2	10	Morehead	US	75.20	clear sky	37.27	-87.18	CCI Express Inn
3	11	Port Elizabeth	ZA	84.20	clear sky	-33.92	25.57	39 On Nile Guest House
4	16	Northam	GB	82.40	few clouds	51.03	-4.22	Durrant House Hotel
In [4]:
# 2. Using the template add the city name, the country code, the weather description and maximum temperature for the city.
info_box_template = """
<dl>
<dt>Hotel Name</dt><dd>{Hotel Name}</dd>
<dt>City</dt><dd>{City}</dd>
<dt>Country</dt><dd>{Country}</dd>
<dt>Current Weather</dt><dd>{Current Description} and {Max Temp} °F</dd>
</dl>
"""

# 3a. Get the data from each row and add it to the formatting template and store the data in a list
hotel_info = [info_box_template.format(**row) for index, row in vacation_df.iterrows()]

# 3b. Get the latitude and longitude from each row and store in a new DataFrame.
locations = vacation_df[["Lat", "Lng"]]
In [5]:
# 4a. Add a marker layer for each city to the map.
marker_layer = gmaps.marker_layer(locations, info_box_content=hotel_info)
fig = gmaps.figure()
fig.add_layer(marker_layer)

# 4b. Display the figure
fig
Figure(layout=FigureLayout(height='420px'))
In [6]:
# 5. From the map above pick 4 cities and create a vacation itinerary route to travel between the four cities. 
# Create DataFrames for each city by filtering the 'vacation_df' using the loc method. 
# The starting and ending city should be the same city.

vacation_start = vacation_df.loc[vacation_df["City"] == "Havre"]
vacation_end = vacation_df.loc[vacation_df["City"] == "Havre"]
vacation_stop1 = vacation_df.loc[vacation_df["City"] == "Saint-Dizier"]
vacation_stop2 = vacation_df.loc[vacation_df["City"] == "Saint-Francois"] 
vacation_stop3 = vacation_df.loc[vacation_df["City"] == "Semme"]
In [7]:
# 6. Get the latitude-longitude pairs as tuples from each city DataFrame using the to_numpy function and list indexing.
start = vacation_start["Lat"].to_numpy()[0], vacation_start["Lng"].to_numpy()[0]
end = vacation_end["Lat"].to_numpy()[0], vacation_end["Lng"].to_numpy()[0]
stop1 = vacation_stop1["Lat"].to_numpy()[0], vacation_stop1["Lng"].to_numpy()[0]
stop2 = vacation_stop2["Lat"].to_numpy()[0], vacation_stop2["Lng"].to_numpy()[0]
stop3 = vacation_stop3["Lat"].to_numpy()[0], vacation_stop3["Lng"].to_numpy()[0]
In [8]:
# 7. Create a direction layer map using the start and end latitude-longitude pairs, and stop1, stop2, and stop3 as the waypoints. 
# The travel_mode should be "DRIVING", "BICYCLING", or "WALKING".
fig = gmaps.figure()
vacation_itinerary = gmaps.directions_layer(
        start, end, waypoints=[stop1, stop2, stop3],
        travel_mode='DRIVING')

fig.add_layer(vacation_itinerary)
fig
Figure(layout=FigureLayout(height='420px'))
In [9]:
# 8. To create a marker layer map between the four cities.
#  Combine the four city DataFrames into one DataFrame using the concat() function.

itinerary_df = pd.concat([vacation_start, vacation_stop1, vacation_stop2, vacation_stop3],ignore_index=True)
In [10]:
itinerary_df
Out[10]:
City_ID	City	Country	Max Temp	Current Description	Lat	Lng	Hotel Name
0	152	Havre	FR	89.6	clear sky	49.58	0.33	gite bois jourdain
1	236	Saint-Dizier	FR	89.6	clear sky	48.42	5.08	Le Val du Roy - Chambres d'hôtes
2	257	Saint-Francois	FR	89.6	clear sky	46.42	3.91	Manoir Du Bonheur
3	561	Semme	FR	84.2	few clouds	46.20	1.50	Inter-Hotel Alexia
In [11]:
# 9. Using the template add the city name, the country code, the weather description and maximum temperature for the city.
info_box_template = """
<dl>
<dt>Hotel Name</dt><dd>{Hotel Name}</dd>
<dt>City</dt><dd>{City}</dd>
<dt>Country</dt><dd>{Country}</dd>
<dt>Current Weather</dt><dd>{Current Description} and {Max Temp} °F</dd>
</dl>
"""

# 10a. Get the data from each row and add it to the formatting template and store the data in a list.
hotel_info = [info_box_template.format(**row) for index, row in itinerary_df.iterrows()]

# 10b. Get the latitude and longitude from each row and store in a new DataFrame.
locations = itinerary_df[["Lat", "Lng"]]
In [12]:
# 11a. Add a marker layer for each city to the map.
marker_layer = gmaps.marker_layer(locations, info_box_content=hotel_info)
fig = gmaps.figure()
fig.add_layer(marker_layer)

# 11b. Display thee figure
fig
Figure(layout=FigureLayout(height='420px'))
In [ ]:
