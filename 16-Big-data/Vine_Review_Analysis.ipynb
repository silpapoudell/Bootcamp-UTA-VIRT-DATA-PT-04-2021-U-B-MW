In [1]:
import pandas as pd
In [2]:
vine_df=pd.read_csv("vine_table.csv", index_col=0)
vine_df
Out[2]:
star_rating	helpful_votes	total_votes	vine	verified_purchase
review_id					
R3I2DHQBR577SS	5.0	0.0	0.0	N	Y
R1QNE9NQFJC2Y4	5.0	0.0	0.0	N	Y
R3LIDG2Q4LJBAO	5.0	0.0	0.0	N	Y
R3KSZHPAEVPEAL	5.0	0.0	0.0	N	Y
RAI2OIG50KZ43	5.0	0.0	0.0	N	Y
...	...	...	...	...	...
RZ7RZ02MTP4SL	5.0	10.0	10.0	N	N
R2IRC0IZ8YCE5T	3.0	23.0	23.0	N	N
R1U4ZSXOD228CZ	5.0	89.0	97.0	N	N
R3SFJLZE09URWM	5.0	10.0	10.0	N	N
R1MEWK4I7YS5XK	5.0	23.0	23.0	N	N
5115666 rows × 5 columns

In [3]:
# create a new DataFrame or table to retrieve all the rows where the total_votes count >= 20 to pick reviews 
#that are more likely to be helpful and to avoid having division by zero errors later on.

total_votes_df = vine_df.loc[vine_df["total_votes"]>= 20]
total_votes_df
Out[3]:
star_rating	helpful_votes	total_votes	vine	verified_purchase
review_id					
R2QRUE9REK8OUC	5.0	18.0	23.0	N	Y
R2POXRW6PXHXZG	5.0	25.0	30.0	N	Y
RZN43XRZ89IIJ	3.0	10.0	27.0	N	N
R29Q748WSHZ3SN	5.0	23.0	24.0	N	Y
R46UL5G5HEPRZ	5.0	18.0	20.0	N	N
...	...	...	...	...	...
R3SHWVR8GO9WK4	5.0	26.0	26.0	N	N
R2KNC11QJB7V5U	5.0	30.0	34.0	N	N
R2IRC0IZ8YCE5T	3.0	23.0	23.0	N	N
R1U4ZSXOD228CZ	5.0	89.0	97.0	N	N
R1MEWK4I7YS5XK	5.0	23.0	23.0	N	N
79227 rows × 5 columns

In [4]:
#Filter the new DataFrame or table created in Step 1 and create a new DataFrame or table to retrieve all the rows 
#where the number of helpful_votes divided by total_votes is equal to or greater than 50%.
helpful_df= total_votes_df.loc[(total_votes_df["helpful_votes"]/total_votes_df["total_votes"]>= 0.5)]
helpful_df
Out[4]:
star_rating	helpful_votes	total_votes	vine	verified_purchase
review_id					
R2QRUE9REK8OUC	5.0	18.0	23.0	N	Y
R2POXRW6PXHXZG	5.0	25.0	30.0	N	Y
R29Q748WSHZ3SN	5.0	23.0	24.0	N	Y
R46UL5G5HEPRZ	5.0	18.0	20.0	N	N
R2UQHSNWU6WTZX	5.0	74.0	76.0	N	N
...	...	...	...	...	...
R3SHWVR8GO9WK4	5.0	26.0	26.0	N	N
R2KNC11QJB7V5U	5.0	30.0	34.0	N	N
R2IRC0IZ8YCE5T	3.0	23.0	23.0	N	N
R1U4ZSXOD228CZ	5.0	89.0	97.0	N	N
R1MEWK4I7YS5XK	5.0	23.0	23.0	N	N
74760 rows × 5 columns

In [5]:
#Filter the DataFrame or table created in Step 2, and create a new DataFrame or table that retrieves all the rows 
#where a review was written as part of the Vine program (paid), vine == 'Y'.

vine_y_df= helpful_df.loc[helpful_df["vine"]=="Y"]
vine_y_df
Out[5]:
star_rating	helpful_votes	total_votes	vine	verified_purchase
review_id					
R106V6GUNWRSSS	5.0	857.0	889.0	Y	N
R37N8KZS48W36A	5.0	36.0	37.0	Y	N
R1LNEQ2MQE03PD	5.0	49.0	66.0	Y	N
R1ECPWPUNK36ES	5.0	29.0	31.0	Y	N
R16BUM7UQZLOM6	3.0	107.0	112.0	Y	N
...	...	...	...	...	...
R23P18F8OSXQXL	5.0	38.0	40.0	Y	N
R39VHZ5XXVYKN	5.0	22.0	27.0	Y	N
R2F4KBBD3MTMKP	5.0	390.0	423.0	Y	N
RQY6RA1SE9R3H	5.0	20.0	23.0	Y	N
R6SS5MXSYP0FI	5.0	25.0	30.0	Y	N
647 rows × 5 columns

In [6]:
#Repeat Step 3, but this time retrieve all the rows where the review was not part of the 
#Vine program (unpaid), vine == 'N'.

vine_n_df= helpful_df.loc[helpful_df["vine"]=="N"]
vine_n_df
Out[6]:
star_rating	helpful_votes	total_votes	vine	verified_purchase
review_id					
R2QRUE9REK8OUC	5.0	18.0	23.0	N	Y
R2POXRW6PXHXZG	5.0	25.0	30.0	N	Y
R29Q748WSHZ3SN	5.0	23.0	24.0	N	Y
R46UL5G5HEPRZ	5.0	18.0	20.0	N	N
R2UQHSNWU6WTZX	5.0	74.0	76.0	N	N
...	...	...	...	...	...
R3SHWVR8GO9WK4	5.0	26.0	26.0	N	N
R2KNC11QJB7V5U	5.0	30.0	34.0	N	N
R2IRC0IZ8YCE5T	3.0	23.0	23.0	N	N
R1U4ZSXOD228CZ	5.0	89.0	97.0	N	N
R1MEWK4I7YS5XK	5.0	23.0	23.0	N	N
74113 rows × 5 columns

In [7]:
#Determine the total number of reviews, the number of 5-star reviews, and the percentage of 5-star reviews 
#for the two types of review (paid vs unpaid).
#total reviews counted
total_reviews= helpful_df["vine"].count()
print(total_reviews)

#total five star reviews
five_stars = helpful_df.loc[(helpful_df["star_rating"]== 5.0)]
five_stars
74760
Out[7]:
star_rating	helpful_votes	total_votes	vine	verified_purchase
review_id					
R2QRUE9REK8OUC	5.0	18.0	23.0	N	Y
R2POXRW6PXHXZG	5.0	25.0	30.0	N	Y
R29Q748WSHZ3SN	5.0	23.0	24.0	N	Y
R46UL5G5HEPRZ	5.0	18.0	20.0	N	N
R2UQHSNWU6WTZX	5.0	74.0	76.0	N	N
...	...	...	...	...	...
RQLSGNI4JL4O7	5.0	36.0	37.0	N	N
R3SHWVR8GO9WK4	5.0	26.0	26.0	N	N
R2KNC11QJB7V5U	5.0	30.0	34.0	N	N
R1U4ZSXOD228CZ	5.0	89.0	97.0	N	N
R1MEWK4I7YS5XK	5.0	23.0	23.0	N	N
43446 rows × 5 columns

In [8]:
#total five stars in vine accounts
five_stars_y=vine_y_df.loc[vine_y_df["star_rating"]==5.0]
five_stars_y
Out[8]:
star_rating	helpful_votes	total_votes	vine	verified_purchase
review_id					
R106V6GUNWRSSS	5.0	857.0	889.0	Y	N
R37N8KZS48W36A	5.0	36.0	37.0	Y	N
R1LNEQ2MQE03PD	5.0	49.0	66.0	Y	N
R1ECPWPUNK36ES	5.0	29.0	31.0	Y	N
R7NWIOCA5RVPR	5.0	19.0	26.0	Y	N
...	...	...	...	...	...
R23P18F8OSXQXL	5.0	38.0	40.0	Y	N
R39VHZ5XXVYKN	5.0	22.0	27.0	Y	N
R2F4KBBD3MTMKP	5.0	390.0	423.0	Y	N
RQY6RA1SE9R3H	5.0	20.0	23.0	Y	N
R6SS5MXSYP0FI	5.0	25.0	30.0	Y	N
229 rows × 5 columns

In [9]:
#total five stars in non vine accounts
five_stars_n=vine_n_df.loc[vine_n_df["star_rating"]==5.0]

five_stars_n
Out[9]:
star_rating	helpful_votes	total_votes	vine	verified_purchase
review_id					
R2QRUE9REK8OUC	5.0	18.0	23.0	N	Y
R2POXRW6PXHXZG	5.0	25.0	30.0	N	Y
R29Q748WSHZ3SN	5.0	23.0	24.0	N	Y
R46UL5G5HEPRZ	5.0	18.0	20.0	N	N
R2UQHSNWU6WTZX	5.0	74.0	76.0	N	N
...	...	...	...	...	...
RQLSGNI4JL4O7	5.0	36.0	37.0	N	N
R3SHWVR8GO9WK4	5.0	26.0	26.0	N	N
R2KNC11QJB7V5U	5.0	30.0	34.0	N	N
R1U4ZSXOD228CZ	5.0	89.0	97.0	N	N
R1MEWK4I7YS5XK	5.0	23.0	23.0	N	N
43217 rows × 5 columns

In [10]:
#percentage of five star reviews are vine/non-vine
paid_percentage= (len(five_stars_y["vine"])/len(five_stars["vine"]))*100
print(paid_percentage)

unpaid_percentage =(len(five_stars_n["star_rating"]==5.0)/len(five_stars["star_rating"])*100)
unpaid_percentage
0.5270911015973853
Out[10]:
99.47290889840261
In [11]:
#percentage of total reviews
vine_y_percent=(len(five_stars_y["vine"])/len(helpful_df["vine"]))*100
print(vine_y_percent)

vine_n_percent=(len(five_stars_n["vine"])/len(helpful_df["vine"]))*100
vine_n_percent
0.3063135366506153
Out[11]:
57.80765115034778
In [13]:
#percentage of 5 stars/vine users and 5star/non users
vine_user_percent=(len(five_stars_y["vine"])/len(vine_y_df["vine"]))*100
print(vine_user_percent)

vine_non_user_percent=(len(five_stars_n["vine"])/len(vine_n_df["vine"]))*100
vine_non_user_percent
35.394126738794434
Out[13]:
58.312306882733125
In [ ]:
